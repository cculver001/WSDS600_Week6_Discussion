{
 "cells": [
  {
   "cell_type": "code",
   "execution_count": 1,
   "id": "5ac923a0",
   "metadata": {},
   "outputs": [],
   "source": [
    "import pandas as pd\n",
    "from sklearn.model_selection import train_test_split\n",
    "from sklearn.linear_model import LogisticRegression\n",
    "from sklearn.metrics import plot_confusion_matrix\n",
    "from sklearn.tree import DecisionTreeClassifier, plot_tree\n",
    "import matplotlib.pyplot as plt"
   ]
  },
  {
   "cell_type": "code",
   "execution_count": 2,
   "id": "ea0593e9",
   "metadata": {
    "scrolled": true
   },
   "outputs": [
    {
     "data": {
      "text/html": [
       "<div>\n",
       "<style scoped>\n",
       "    .dataframe tbody tr th:only-of-type {\n",
       "        vertical-align: middle;\n",
       "    }\n",
       "\n",
       "    .dataframe tbody tr th {\n",
       "        vertical-align: top;\n",
       "    }\n",
       "\n",
       "    .dataframe thead th {\n",
       "        text-align: right;\n",
       "    }\n",
       "</style>\n",
       "<table border=\"1\" class=\"dataframe\">\n",
       "  <thead>\n",
       "    <tr style=\"text-align: right;\">\n",
       "      <th></th>\n",
       "      <th>Date of the Crime</th>\n",
       "      <th>Type of the Crime</th>\n",
       "      <th>Location of the Crime</th>\n",
       "      <th>Punishment for a crime</th>\n",
       "      <th>Legally Exonerated Encoded</th>\n",
       "    </tr>\n",
       "    <tr>\n",
       "      <th>Defendants</th>\n",
       "      <th></th>\n",
       "      <th></th>\n",
       "      <th></th>\n",
       "      <th></th>\n",
       "      <th></th>\n",
       "    </tr>\n",
       "  </thead>\n",
       "  <tbody>\n",
       "    <tr>\n",
       "      <th>Dominic Daley and James Halligan</th>\n",
       "      <td>1805</td>\n",
       "      <td>16</td>\n",
       "      <td>16</td>\n",
       "      <td>35.0</td>\n",
       "      <td>1</td>\n",
       "    </tr>\n",
       "    <tr>\n",
       "      <th>John Gordon</th>\n",
       "      <td>1843</td>\n",
       "      <td>16</td>\n",
       "      <td>30</td>\n",
       "      <td>35.0</td>\n",
       "      <td>1</td>\n",
       "    </tr>\n",
       "    <tr>\n",
       "      <th>Chief Leschi</th>\n",
       "      <td>1855</td>\n",
       "      <td>16</td>\n",
       "      <td>35</td>\n",
       "      <td>35.0</td>\n",
       "      <td>0</td>\n",
       "    </tr>\n",
       "    <tr>\n",
       "      <th>Chipita Rodriguez</th>\n",
       "      <td>1863</td>\n",
       "      <td>16</td>\n",
       "      <td>33</td>\n",
       "      <td>35.0</td>\n",
       "      <td>1</td>\n",
       "    </tr>\n",
       "    <tr>\n",
       "      <th>William Jackson Marion</th>\n",
       "      <td>1872</td>\n",
       "      <td>16</td>\n",
       "      <td>21</td>\n",
       "      <td>35.0</td>\n",
       "      <td>1</td>\n",
       "    </tr>\n",
       "    <tr>\n",
       "      <th>...</th>\n",
       "      <td>...</td>\n",
       "      <td>...</td>\n",
       "      <td>...</td>\n",
       "      <td>...</td>\n",
       "      <td>...</td>\n",
       "    </tr>\n",
       "    <tr>\n",
       "      <th>Arthur Morris and Jeanie Becerra</th>\n",
       "      <td>2014</td>\n",
       "      <td>1</td>\n",
       "      <td>12</td>\n",
       "      <td>39.0</td>\n",
       "      <td>1</td>\n",
       "    </tr>\n",
       "    <tr>\n",
       "      <th>Tazell Cash</th>\n",
       "      <td>2016</td>\n",
       "      <td>34</td>\n",
       "      <td>17</td>\n",
       "      <td>8.0</td>\n",
       "      <td>1</td>\n",
       "    </tr>\n",
       "    <tr>\n",
       "      <th>Michael Hickingbottom</th>\n",
       "      <td>2017</td>\n",
       "      <td>1</td>\n",
       "      <td>10</td>\n",
       "      <td>25.0</td>\n",
       "      <td>1</td>\n",
       "    </tr>\n",
       "    <tr>\n",
       "      <th>Joshua Horner</th>\n",
       "      <td>2017</td>\n",
       "      <td>6</td>\n",
       "      <td>28</td>\n",
       "      <td>22.0</td>\n",
       "      <td>1</td>\n",
       "    </tr>\n",
       "    <tr>\n",
       "      <th>Brenda Jones</th>\n",
       "      <td>2017</td>\n",
       "      <td>0</td>\n",
       "      <td>37</td>\n",
       "      <td>33.0</td>\n",
       "      <td>1</td>\n",
       "    </tr>\n",
       "  </tbody>\n",
       "</table>\n",
       "<p>169 rows × 5 columns</p>\n",
       "</div>"
      ],
      "text/plain": [
       "                                  Date of the Crime  Type of the Crime  \\\n",
       "Defendants                                                               \n",
       "Dominic Daley and James Halligan               1805                 16   \n",
       "John Gordon                                    1843                 16   \n",
       "Chief Leschi                                   1855                 16   \n",
       "Chipita Rodriguez                              1863                 16   \n",
       "William Jackson Marion                         1872                 16   \n",
       "...                                             ...                ...   \n",
       "Arthur Morris and Jeanie Becerra               2014                  1   \n",
       "Tazell Cash                                    2016                 34   \n",
       "Michael Hickingbottom                          2017                  1   \n",
       "Joshua Horner                                  2017                  6   \n",
       "Brenda Jones                                   2017                  0   \n",
       "\n",
       "                                  Location of the Crime  \\\n",
       "Defendants                                                \n",
       "Dominic Daley and James Halligan                     16   \n",
       "John Gordon                                          30   \n",
       "Chief Leschi                                         35   \n",
       "Chipita Rodriguez                                    33   \n",
       "William Jackson Marion                               21   \n",
       "...                                                 ...   \n",
       "Arthur Morris and Jeanie Becerra                     12   \n",
       "Tazell Cash                                          17   \n",
       "Michael Hickingbottom                                10   \n",
       "Joshua Horner                                        28   \n",
       "Brenda Jones                                         37   \n",
       "\n",
       "                                  Punishment for a crime  \\\n",
       "Defendants                                                 \n",
       "Dominic Daley and James Halligan                    35.0   \n",
       "John Gordon                                         35.0   \n",
       "Chief Leschi                                        35.0   \n",
       "Chipita Rodriguez                                   35.0   \n",
       "William Jackson Marion                              35.0   \n",
       "...                                                  ...   \n",
       "Arthur Morris and Jeanie Becerra                    39.0   \n",
       "Tazell Cash                                          8.0   \n",
       "Michael Hickingbottom                               25.0   \n",
       "Joshua Horner                                       22.0   \n",
       "Brenda Jones                                        33.0   \n",
       "\n",
       "                                  Legally Exonerated Encoded  \n",
       "Defendants                                                    \n",
       "Dominic Daley and James Halligan                           1  \n",
       "John Gordon                                                1  \n",
       "Chief Leschi                                               0  \n",
       "Chipita Rodriguez                                          1  \n",
       "William Jackson Marion                                     1  \n",
       "...                                                      ...  \n",
       "Arthur Morris and Jeanie Becerra                           1  \n",
       "Tazell Cash                                                1  \n",
       "Michael Hickingbottom                                      1  \n",
       "Joshua Horner                                              1  \n",
       "Brenda Jones                                               1  \n",
       "\n",
       "[169 rows x 5 columns]"
      ]
     },
     "execution_count": 2,
     "metadata": {},
     "output_type": "execute_result"
    }
   ],
   "source": [
    "# we can give an index number or name for our index column, or leave it blank\n",
    "df = pd.read_csv('prepped_convictions_data.csv', index_col='Defendants')\n",
    "df"
   ]
  },
  {
   "cell_type": "code",
   "execution_count": 3,
   "id": "71d5377a",
   "metadata": {},
   "outputs": [
    {
     "name": "stdout",
     "output_type": "stream",
     "text": [
      "<class 'pandas.core.frame.DataFrame'>\n",
      "Index: 169 entries, Dominic Daley and James Halligan to Brenda Jones\n",
      "Data columns (total 5 columns):\n",
      " #   Column                      Non-Null Count  Dtype  \n",
      "---  ------                      --------------  -----  \n",
      " 0   Date of the Crime           169 non-null    int64  \n",
      " 1   Type of the Crime           169 non-null    int64  \n",
      " 2   Location of the Crime       169 non-null    int64  \n",
      " 3   Punishment for a crime      169 non-null    float64\n",
      " 4   Legally Exonerated Encoded  169 non-null    int64  \n",
      "dtypes: float64(1), int64(4)\n",
      "memory usage: 7.9+ KB\n"
     ]
    }
   ],
   "source": [
    "df.info()"
   ]
  },
  {
   "cell_type": "markdown",
   "id": "8ae724c0",
   "metadata": {},
   "source": [
    "## Modeling"
   ]
  },
  {
   "cell_type": "code",
   "execution_count": 4,
   "id": "46a3fe54",
   "metadata": {},
   "outputs": [],
   "source": [
    "features = df.drop('Legally Exonerated Encoded', axis=1)\n",
    "targets = df['Legally Exonerated Encoded']"
   ]
  },
  {
   "cell_type": "code",
   "execution_count": 5,
   "id": "f3296713",
   "metadata": {},
   "outputs": [],
   "source": [
    "x_train, x_test, y_train, y_test = train_test_split(features, targets, stratify=targets, random_state=42)"
   ]
  },
  {
   "cell_type": "code",
   "execution_count": 6,
   "id": "81926c94",
   "metadata": {},
   "outputs": [
    {
     "data": {
      "text/plain": [
       "LogisticRegression(max_iter=1000)"
      ]
     },
     "execution_count": 6,
     "metadata": {},
     "output_type": "execute_result"
    }
   ],
   "source": [
    "lr_model = LogisticRegression(max_iter=1000)\n",
    "lr_model.fit(x_train, y_train)"
   ]
  },
  {
   "cell_type": "markdown",
   "id": "753da1d3",
   "metadata": {},
   "source": [
    "## Evaluation"
   ]
  },
  {
   "cell_type": "code",
   "execution_count": 7,
   "id": "5ccebd21",
   "metadata": {},
   "outputs": [
    {
     "data": {
      "text/plain": [
       "1    0.852071\n",
       "0    0.147929\n",
       "Name: Legally Exonerated Encoded, dtype: float64"
      ]
     },
     "execution_count": 7,
     "metadata": {},
     "output_type": "execute_result"
    }
   ],
   "source": [
    "# our \"no information\" rate is 84.6%, or the majority class fraction\n",
    "df['Legally Exonerated Encoded'].value_counts(normalize=True)"
   ]
  },
  {
   "cell_type": "code",
   "execution_count": 8,
   "id": "05c5bb6f",
   "metadata": {},
   "outputs": [
    {
     "name": "stdout",
     "output_type": "stream",
     "text": [
      "0.8492063492063492\n",
      "0.8604651162790697\n"
     ]
    }
   ],
   "source": [
    "print(lr_model.score(x_train, y_train))\n",
    "print(lr_model.score(x_test, y_test))"
   ]
  },
  {
   "cell_type": "code",
   "execution_count": 9,
   "id": "60e799bb",
   "metadata": {},
   "outputs": [
    {
     "data": {
      "text/plain": [
       "<sklearn.metrics._plot.confusion_matrix.ConfusionMatrixDisplay at 0x21c2e5e3e20>"
      ]
     },
     "execution_count": 9,
     "metadata": {},
     "output_type": "execute_result"
    },
    {
     "data": {
      "image/png": "[encoded data removed]",
      "text/plain": [
       "<Figure size 432x288 with 2 Axes>"
      ]
     },
     "metadata": {
      "needs_background": "light"
     },
     "output_type": "display_data"
    }
   ],
   "source": [
    "plot_confusion_matrix(lr_model, x_test, y_test, cmap='Blues')#, colorbar=False) # this argument only works with sklearn 0.24 and up"
   ]
  },
  {
   "cell_type": "code",
   "execution_count": 10,
   "id": "a64e6518",
   "metadata": {},
   "outputs": [
    {
     "data": {
      "text/plain": [
       "array([[0.06254735, 0.93745265],\n",
       "       [0.19372511, 0.80627489],\n",
       "       [0.17241677, 0.82758323],\n",
       "       [0.07761251, 0.92238749],\n",
       "       [0.07723869, 0.92276131]])"
      ]
     },
     "execution_count": 10,
     "metadata": {},
     "output_type": "execute_result"
    }
   ],
   "source": [
    "lr_model.predict_proba(x_test)[:5]"
   ]
  },
  {
   "cell_type": "code",
   "execution_count": 11,
   "id": "99d5df76",
   "metadata": {},
   "outputs": [
    {
     "data": {
      "text/plain": [
       "array([1, 1, 1, 1, 1], dtype=int64)"
      ]
     },
     "execution_count": 11,
     "metadata": {},
     "output_type": "execute_result"
    }
   ],
   "source": [
    "lr_model.predict(x_test)[:5]"
   ]
  },
  {
   "cell_type": "code",
   "execution_count": 12,
   "id": "515d4d7b",
   "metadata": {},
   "outputs": [
    {
     "data": {
      "text/plain": [
       "array([1, 1, 1, 1, 1])"
      ]
     },
     "execution_count": 12,
     "metadata": {},
     "output_type": "execute_result"
    }
   ],
   "source": [
    "(lr_model.predict_proba(x_test)[:5, 1] > 0.5).astype('int')"
   ]
  },
  {
   "cell_type": "code",
   "execution_count": 13,
   "id": "02f704fd",
   "metadata": {},
   "outputs": [],
   "source": [
    "predictions_lower_thresh = (lr_model.predict_proba(x_test)[:, 1] > 0.13).astype('int')"
   ]
  },
  {
   "cell_type": "code",
   "execution_count": 14,
   "id": "d4c2b73c",
   "metadata": {},
   "outputs": [
    {
     "name": "stdout",
     "output_type": "stream",
     "text": [
      "0.8604651162790697\n",
      "1.0\n"
     ]
    }
   ],
   "source": [
    "from sklearn.metrics import accuracy_score, confusion_matrix\n",
    "\n",
    "print(accuracy_score(y_test, predictions_lower_thresh))\n",
    "tn, fp, fn, tp  = confusion_matrix(y_test, predictions_lower_thresh).flatten()\n",
    "print(tp / (tp + fn))"
   ]
  },
  {
   "cell_type": "code",
   "execution_count": 15,
   "id": "48827ec5",
   "metadata": {},
   "outputs": [
    {
     "data": {
      "text/plain": [
       "array([[ 0.00186389, -0.01138637, -0.04733811, -0.02449466]])"
      ]
     },
     "execution_count": 15,
     "metadata": {},
     "output_type": "execute_result"
    }
   ],
   "source": [
    "lr_model.coef_"
   ]
  },
  {
   "cell_type": "code",
   "execution_count": 16,
   "id": "2d760f87",
   "metadata": {},
   "outputs": [
    {
     "data": {
      "text/plain": [
       "Index(['Date of the Crime', 'Type of the Crime', 'Location of the Crime',\n",
       "       'Punishment for a crime'],\n",
       "      dtype='object')"
      ]
     },
     "execution_count": 16,
     "metadata": {},
     "output_type": "execute_result"
    }
   ],
   "source": [
    "features.columns"
   ]
  },
  {
   "cell_type": "code",
   "execution_count": 17,
   "id": "4c49c3f3",
   "metadata": {},
   "outputs": [],
   "source": [
    "coef_df = pd.DataFrame(data=lr_model.coef_, columns=features.columns)"
   ]
  },
  {
   "cell_type": "code",
   "execution_count": 18,
   "id": "56a1bd4c",
   "metadata": {},
   "outputs": [
    {
     "data": {
      "text/plain": [
       "<AxesSubplot:>"
      ]
     },
     "execution_count": 18,
     "metadata": {},
     "output_type": "execute_result"
    },
    {
     "data": {
      "image/png": "[encoded data removed]",
      "text/plain": [
       "<Figure size 432x288 with 1 Axes>"
      ]
     },
     "metadata": {
      "needs_background": "light"
     },
     "output_type": "display_data"
    }
   ],
   "source": [
    "coef_df.T.sort_values(by=0).plot.bar(legend=False)"
   ]
  },
  {
   "cell_type": "markdown",
   "id": "48c16124",
   "metadata": {},
   "source": [
    "## Feature Selection"
   ]
  },
  {
   "cell_type": "code",
   "execution_count": 19,
   "id": "32cbb28b",
   "metadata": {},
   "outputs": [],
   "source": [
    "import seaborn as sns"
   ]
  },
  {
   "cell_type": "code",
   "execution_count": 20,
   "id": "fbbbdd50",
   "metadata": {},
   "outputs": [
    {
     "data": {
      "text/plain": [
       "<AxesSubplot:>"
      ]
     },
     "execution_count": 20,
     "metadata": {},
     "output_type": "execute_result"
    },
    {
     "data": {
      "image/png": "[encoded data removed]",
      "text/plain": [
       "<Figure size 720x720 with 2 Axes>"
      ]
     },
     "metadata": {
      "needs_background": "light"
     },
     "output_type": "display_data"
    }
   ],
   "source": [
    "f = plt.figure(figsize=(10, 10))\n",
    "sns.heatmap(df.corr(), annot=True)"
   ]
  },
  {
   "cell_type": "code",
   "execution_count": 21,
   "id": "cf3c478c",
   "metadata": {},
   "outputs": [
    {
     "data": {
      "text/plain": [
       "<AxesSubplot:title={'center':'Feature Importance'}>"
      ]
     },
     "execution_count": 21,
     "metadata": {},
     "output_type": "execute_result"
    },
    {
     "data": {
      "image/png": "[encoded data removed]",
      "text/plain": [
       "<Figure size 432x288 with 1 Axes>"
      ]
     },
     "metadata": {
      "needs_background": "light"
     },
     "output_type": "display_data"
    }
   ],
   "source": [
    "from scikitplot.estimators import plot_feature_importances\n",
    "from sklearn.ensemble import RandomForestClassifier\n",
    "\n",
    "rfc = RandomForestClassifier(max_depth=2, max_features=4, random_state=42)\n",
    "rfc.fit(x_train, y_train)\n",
    "\n",
    "plot_feature_importances(rfc, feature_names=features.columns, x_tick_rotation=90)"
   ]
  }
 ],
 "metadata": {
  "kernelspec": {
   "display_name": "Python 3 (ipykernel)",
   "language": "python",
   "name": "python3"
  },
  "language_info": {
   "codemirror_mode": {
    "name": "ipython",
    "version": 3
   },
   "file_extension": ".py",
   "mimetype": "text/x-python",
   "name": "python",
   "nbconvert_exporter": "python",
   "pygments_lexer": "ipython3",
   "version": "3.9.7"
  }
 },
 "nbformat": 4,
 "nbformat_minor": 5
}
